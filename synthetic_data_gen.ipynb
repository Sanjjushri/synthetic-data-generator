{
 "cells": [
  {
   "cell_type": "code",
   "execution_count": 2,
   "id": "0e11708b-68a4-43fc-9014-4bb360a80022",
   "metadata": {},
   "outputs": [
    {
     "name": "stdout",
     "output_type": "stream",
     "text": [
      "Name: ctgan\n",
      "Version: 0.9.0\n",
      "Summary: Create tabular synthetic data using a conditional GAN\n",
      "Home-page: https://github.com/sdv-dev/CTGAN\n",
      "Author: DataCebo, Inc.\n",
      "Author-email: info@sdv.dev\n",
      "License: BSL-1.1\n",
      "Location: /opt/homebrew/Caskroom/miniconda/base/envs/ml311/lib/python3.11/site-packages\n",
      "Requires: numpy, pandas, rdt, scikit-learn, torch, tqdm\n",
      "Required-by: \n"
     ]
    }
   ],
   "source": [
    "!pip show ctgan"
   ]
  },
  {
   "cell_type": "code",
   "execution_count": 4,
   "id": "730e59ea-349b-46b5-8919-f46441c1656d",
   "metadata": {},
   "outputs": [],
   "source": [
    "import seaborn as sns\n",
    "import pandas as pd\n",
    "from ctgan import CTGAN"
   ]
  },
  {
   "cell_type": "code",
   "execution_count": 5,
   "id": "d7ea3d25-0740-4f46-b774-bb042ad04ab7",
   "metadata": {},
   "outputs": [],
   "source": [
    "iris_data = sns.load_dataset(\"iris\")"
   ]
  },
  {
   "cell_type": "code",
   "execution_count": 6,
   "id": "fb9ddafe-aee7-41d9-a05a-d069ed3d8070",
   "metadata": {},
   "outputs": [],
   "source": [
    "categorical_features= iris_data.select_dtypes(exclude=\"number\").columns.tolist()"
   ]
  },
  {
   "cell_type": "code",
   "execution_count": 7,
   "id": "94e3b0fe-20c2-4050-a654-4cc4ff84f649",
   "metadata": {},
   "outputs": [
    {
     "data": {
      "text/plain": [
       "['species']"
      ]
     },
     "execution_count": 7,
     "metadata": {},
     "output_type": "execute_result"
    }
   ],
   "source": [
    "categorical_features"
   ]
  },
  {
   "cell_type": "code",
   "execution_count": 8,
   "id": "70d0da35-7920-405a-b847-b0d59ab1f0cc",
   "metadata": {},
   "outputs": [
    {
     "name": "stderr",
     "output_type": "stream",
     "text": [
      "/opt/homebrew/Caskroom/miniconda/base/envs/ml311/lib/python3.11/site-packages/tqdm/auto.py:21: TqdmWarning: IProgress not found. Please update jupyter and ipywidgets. See https://ipywidgets.readthedocs.io/en/stable/user_install.html\n",
      "  from .autonotebook import tqdm as notebook_tqdm\n"
     ]
    }
   ],
   "source": [
    "ctgan = CTGAN(epochs=5)\n",
    "ctgan.fit(iris_data, categorical_features)"
   ]
  },
  {
   "cell_type": "code",
   "execution_count": 9,
   "id": "4ee61c71-b2b7-4b9f-84c0-1b339f2d2513",
   "metadata": {},
   "outputs": [
    {
     "data": {
      "text/html": [
       "<div>\n",
       "<style scoped>\n",
       "    .dataframe tbody tr th:only-of-type {\n",
       "        vertical-align: middle;\n",
       "    }\n",
       "\n",
       "    .dataframe tbody tr th {\n",
       "        vertical-align: top;\n",
       "    }\n",
       "\n",
       "    .dataframe thead th {\n",
       "        text-align: right;\n",
       "    }\n",
       "</style>\n",
       "<table border=\"1\" class=\"dataframe\">\n",
       "  <thead>\n",
       "    <tr style=\"text-align: right;\">\n",
       "      <th></th>\n",
       "      <th>sepal_length</th>\n",
       "      <th>sepal_width</th>\n",
       "      <th>petal_length</th>\n",
       "      <th>petal_width</th>\n",
       "      <th>species</th>\n",
       "    </tr>\n",
       "  </thead>\n",
       "  <tbody>\n",
       "    <tr>\n",
       "      <th>0</th>\n",
       "      <td>4.724655</td>\n",
       "      <td>2.371418</td>\n",
       "      <td>3.884789</td>\n",
       "      <td>0.699350</td>\n",
       "      <td>versicolor</td>\n",
       "    </tr>\n",
       "    <tr>\n",
       "      <th>1</th>\n",
       "      <td>7.507625</td>\n",
       "      <td>4.173178</td>\n",
       "      <td>1.954824</td>\n",
       "      <td>0.141705</td>\n",
       "      <td>setosa</td>\n",
       "    </tr>\n",
       "    <tr>\n",
       "      <th>2</th>\n",
       "      <td>5.688577</td>\n",
       "      <td>3.300080</td>\n",
       "      <td>1.997116</td>\n",
       "      <td>0.157324</td>\n",
       "      <td>virginica</td>\n",
       "    </tr>\n",
       "    <tr>\n",
       "      <th>3</th>\n",
       "      <td>5.201298</td>\n",
       "      <td>4.029219</td>\n",
       "      <td>1.957523</td>\n",
       "      <td>2.115624</td>\n",
       "      <td>setosa</td>\n",
       "    </tr>\n",
       "    <tr>\n",
       "      <th>4</th>\n",
       "      <td>4.732202</td>\n",
       "      <td>2.229818</td>\n",
       "      <td>1.221815</td>\n",
       "      <td>0.517630</td>\n",
       "      <td>virginica</td>\n",
       "    </tr>\n",
       "    <tr>\n",
       "      <th>5</th>\n",
       "      <td>5.068514</td>\n",
       "      <td>2.708387</td>\n",
       "      <td>2.962645</td>\n",
       "      <td>2.385555</td>\n",
       "      <td>virginica</td>\n",
       "    </tr>\n",
       "    <tr>\n",
       "      <th>6</th>\n",
       "      <td>5.491013</td>\n",
       "      <td>3.369294</td>\n",
       "      <td>4.117592</td>\n",
       "      <td>0.033374</td>\n",
       "      <td>setosa</td>\n",
       "    </tr>\n",
       "    <tr>\n",
       "      <th>7</th>\n",
       "      <td>4.699533</td>\n",
       "      <td>3.156970</td>\n",
       "      <td>3.418612</td>\n",
       "      <td>1.057313</td>\n",
       "      <td>virginica</td>\n",
       "    </tr>\n",
       "    <tr>\n",
       "      <th>8</th>\n",
       "      <td>6.214683</td>\n",
       "      <td>3.392099</td>\n",
       "      <td>1.678380</td>\n",
       "      <td>1.422696</td>\n",
       "      <td>virginica</td>\n",
       "    </tr>\n",
       "    <tr>\n",
       "      <th>9</th>\n",
       "      <td>6.567694</td>\n",
       "      <td>2.411227</td>\n",
       "      <td>4.423729</td>\n",
       "      <td>0.571658</td>\n",
       "      <td>setosa</td>\n",
       "    </tr>\n",
       "    <tr>\n",
       "      <th>10</th>\n",
       "      <td>4.906229</td>\n",
       "      <td>2.748638</td>\n",
       "      <td>1.379023</td>\n",
       "      <td>0.548289</td>\n",
       "      <td>setosa</td>\n",
       "    </tr>\n",
       "    <tr>\n",
       "      <th>11</th>\n",
       "      <td>4.249414</td>\n",
       "      <td>3.303820</td>\n",
       "      <td>1.738827</td>\n",
       "      <td>-0.242678</td>\n",
       "      <td>setosa</td>\n",
       "    </tr>\n",
       "    <tr>\n",
       "      <th>12</th>\n",
       "      <td>7.247610</td>\n",
       "      <td>3.522680</td>\n",
       "      <td>1.530662</td>\n",
       "      <td>1.059393</td>\n",
       "      <td>setosa</td>\n",
       "    </tr>\n",
       "    <tr>\n",
       "      <th>13</th>\n",
       "      <td>5.059788</td>\n",
       "      <td>2.933619</td>\n",
       "      <td>1.941485</td>\n",
       "      <td>0.165814</td>\n",
       "      <td>virginica</td>\n",
       "    </tr>\n",
       "    <tr>\n",
       "      <th>14</th>\n",
       "      <td>3.775778</td>\n",
       "      <td>1.967490</td>\n",
       "      <td>5.023380</td>\n",
       "      <td>0.087620</td>\n",
       "      <td>setosa</td>\n",
       "    </tr>\n",
       "    <tr>\n",
       "      <th>15</th>\n",
       "      <td>5.982832</td>\n",
       "      <td>4.619092</td>\n",
       "      <td>2.928562</td>\n",
       "      <td>0.955983</td>\n",
       "      <td>versicolor</td>\n",
       "    </tr>\n",
       "    <tr>\n",
       "      <th>16</th>\n",
       "      <td>5.073768</td>\n",
       "      <td>2.982212</td>\n",
       "      <td>1.928705</td>\n",
       "      <td>0.312038</td>\n",
       "      <td>setosa</td>\n",
       "    </tr>\n",
       "    <tr>\n",
       "      <th>17</th>\n",
       "      <td>5.735089</td>\n",
       "      <td>2.272327</td>\n",
       "      <td>1.788715</td>\n",
       "      <td>0.446485</td>\n",
       "      <td>virginica</td>\n",
       "    </tr>\n",
       "    <tr>\n",
       "      <th>18</th>\n",
       "      <td>4.391602</td>\n",
       "      <td>4.123767</td>\n",
       "      <td>5.004517</td>\n",
       "      <td>-0.036902</td>\n",
       "      <td>versicolor</td>\n",
       "    </tr>\n",
       "    <tr>\n",
       "      <th>19</th>\n",
       "      <td>4.092500</td>\n",
       "      <td>3.056682</td>\n",
       "      <td>2.037929</td>\n",
       "      <td>2.056226</td>\n",
       "      <td>virginica</td>\n",
       "    </tr>\n",
       "  </tbody>\n",
       "</table>\n",
       "</div>"
      ],
      "text/plain": [
       "    sepal_length  sepal_width  petal_length  petal_width     species\n",
       "0       4.724655     2.371418      3.884789     0.699350  versicolor\n",
       "1       7.507625     4.173178      1.954824     0.141705      setosa\n",
       "2       5.688577     3.300080      1.997116     0.157324   virginica\n",
       "3       5.201298     4.029219      1.957523     2.115624      setosa\n",
       "4       4.732202     2.229818      1.221815     0.517630   virginica\n",
       "5       5.068514     2.708387      2.962645     2.385555   virginica\n",
       "6       5.491013     3.369294      4.117592     0.033374      setosa\n",
       "7       4.699533     3.156970      3.418612     1.057313   virginica\n",
       "8       6.214683     3.392099      1.678380     1.422696   virginica\n",
       "9       6.567694     2.411227      4.423729     0.571658      setosa\n",
       "10      4.906229     2.748638      1.379023     0.548289      setosa\n",
       "11      4.249414     3.303820      1.738827    -0.242678      setosa\n",
       "12      7.247610     3.522680      1.530662     1.059393      setosa\n",
       "13      5.059788     2.933619      1.941485     0.165814   virginica\n",
       "14      3.775778     1.967490      5.023380     0.087620      setosa\n",
       "15      5.982832     4.619092      2.928562     0.955983  versicolor\n",
       "16      5.073768     2.982212      1.928705     0.312038      setosa\n",
       "17      5.735089     2.272327      1.788715     0.446485   virginica\n",
       "18      4.391602     4.123767      5.004517    -0.036902  versicolor\n",
       "19      4.092500     3.056682      2.037929     2.056226   virginica"
      ]
     },
     "execution_count": 9,
     "metadata": {},
     "output_type": "execute_result"
    }
   ],
   "source": [
    "synthetic_iris = ctgan.sample(1000)\n",
    "synthetic_iris.head(20)"
   ]
  },
  {
   "cell_type": "code",
   "execution_count": null,
   "id": "130de0a5-727d-4668-b732-545563d73126",
   "metadata": {},
   "outputs": [],
   "source": []
  }
 ],
 "metadata": {
  "kernelspec": {
   "display_name": "Python 3 (ipykernel)",
   "language": "python",
   "name": "python3"
  },
  "language_info": {
   "codemirror_mode": {
    "name": "ipython",
    "version": 3
   },
   "file_extension": ".py",
   "mimetype": "text/x-python",
   "name": "python",
   "nbconvert_exporter": "python",
   "pygments_lexer": "ipython3",
   "version": "3.11.7"
  }
 },
 "nbformat": 4,
 "nbformat_minor": 5
}
