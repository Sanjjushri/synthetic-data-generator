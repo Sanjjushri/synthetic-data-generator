{
 "cells": [
  {
   "cell_type": "code",
   "execution_count": 7,
   "id": "0e11708b-68a4-43fc-9014-4bb360a80022",
   "metadata": {},
   "outputs": [],
   "source": [
    "# !pip show ctgan"
   ]
  },
  {
   "cell_type": "code",
   "execution_count": 5,
   "id": "0835f0af-6901-41ef-8b62-3b91b4729355",
   "metadata": {},
   "outputs": [],
   "source": [
    "# !pip install ctgan==0.9.0 seaborn==0.11.2 pandas==2.2.1"
   ]
  },
  {
   "cell_type": "code",
   "execution_count": 8,
   "id": "730e59ea-349b-46b5-8919-f46441c1656d",
   "metadata": {},
   "outputs": [],
   "source": [
    "import seaborn as sns\n",
    "import pandas as pd\n",
    "from ctgan import CTGAN"
   ]
  },
  {
   "cell_type": "code",
   "execution_count": 9,
   "id": "d7ea3d25-0740-4f46-b774-bb042ad04ab7",
   "metadata": {},
   "outputs": [
    {
     "data": {
      "text/html": [
       "<div>\n",
       "<style scoped>\n",
       "    .dataframe tbody tr th:only-of-type {\n",
       "        vertical-align: middle;\n",
       "    }\n",
       "\n",
       "    .dataframe tbody tr th {\n",
       "        vertical-align: top;\n",
       "    }\n",
       "\n",
       "    .dataframe thead th {\n",
       "        text-align: right;\n",
       "    }\n",
       "</style>\n",
       "<table border=\"1\" class=\"dataframe\">\n",
       "  <thead>\n",
       "    <tr style=\"text-align: right;\">\n",
       "      <th></th>\n",
       "      <th>sepal_length</th>\n",
       "      <th>sepal_width</th>\n",
       "      <th>petal_length</th>\n",
       "      <th>petal_width</th>\n",
       "      <th>species</th>\n",
       "    </tr>\n",
       "  </thead>\n",
       "  <tbody>\n",
       "    <tr>\n",
       "      <th>0</th>\n",
       "      <td>5.1</td>\n",
       "      <td>3.5</td>\n",
       "      <td>1.4</td>\n",
       "      <td>0.2</td>\n",
       "      <td>setosa</td>\n",
       "    </tr>\n",
       "    <tr>\n",
       "      <th>1</th>\n",
       "      <td>4.9</td>\n",
       "      <td>3.0</td>\n",
       "      <td>1.4</td>\n",
       "      <td>0.2</td>\n",
       "      <td>setosa</td>\n",
       "    </tr>\n",
       "    <tr>\n",
       "      <th>2</th>\n",
       "      <td>4.7</td>\n",
       "      <td>3.2</td>\n",
       "      <td>1.3</td>\n",
       "      <td>0.2</td>\n",
       "      <td>setosa</td>\n",
       "    </tr>\n",
       "    <tr>\n",
       "      <th>3</th>\n",
       "      <td>4.6</td>\n",
       "      <td>3.1</td>\n",
       "      <td>1.5</td>\n",
       "      <td>0.2</td>\n",
       "      <td>setosa</td>\n",
       "    </tr>\n",
       "    <tr>\n",
       "      <th>4</th>\n",
       "      <td>5.0</td>\n",
       "      <td>3.6</td>\n",
       "      <td>1.4</td>\n",
       "      <td>0.2</td>\n",
       "      <td>setosa</td>\n",
       "    </tr>\n",
       "  </tbody>\n",
       "</table>\n",
       "</div>"
      ],
      "text/plain": [
       "   sepal_length  sepal_width  petal_length  petal_width species\n",
       "0           5.1          3.5           1.4          0.2  setosa\n",
       "1           4.9          3.0           1.4          0.2  setosa\n",
       "2           4.7          3.2           1.3          0.2  setosa\n",
       "3           4.6          3.1           1.5          0.2  setosa\n",
       "4           5.0          3.6           1.4          0.2  setosa"
      ]
     },
     "execution_count": 9,
     "metadata": {},
     "output_type": "execute_result"
    }
   ],
   "source": [
    "iris_data = sns.load_dataset(\"iris\")\n",
    "iris_data.head()\n"
   ]
  },
  {
   "cell_type": "code",
   "execution_count": 11,
   "id": "fb9ddafe-aee7-41d9-a05a-d069ed3d8070",
   "metadata": {},
   "outputs": [],
   "source": [
    "categorical_features= iris_data.select_dtypes(exclude=\"number\").columns.tolist()"
   ]
  },
  {
   "cell_type": "code",
   "execution_count": 12,
   "id": "94e3b0fe-20c2-4050-a654-4cc4ff84f649",
   "metadata": {},
   "outputs": [
    {
     "data": {
      "text/plain": [
       "['species']"
      ]
     },
     "execution_count": 12,
     "metadata": {},
     "output_type": "execute_result"
    }
   ],
   "source": [
    "categorical_features"
   ]
  },
  {
   "cell_type": "code",
   "execution_count": 13,
   "id": "70d0da35-7920-405a-b847-b0d59ab1f0cc",
   "metadata": {},
   "outputs": [
    {
     "name": "stderr",
     "output_type": "stream",
     "text": [
      "/opt/homebrew/Caskroom/miniconda/base/envs/ml311/lib/python3.11/site-packages/tqdm/auto.py:21: TqdmWarning: IProgress not found. Please update jupyter and ipywidgets. See https://ipywidgets.readthedocs.io/en/stable/user_install.html\n",
      "  from .autonotebook import tqdm as notebook_tqdm\n"
     ]
    }
   ],
   "source": [
    "ctgan = CTGAN(epochs=5)\n",
    "ctgan.fit(iris_data, categorical_features)"
   ]
  },
  {
   "cell_type": "code",
   "execution_count": 14,
   "id": "4ee61c71-b2b7-4b9f-84c0-1b339f2d2513",
   "metadata": {},
   "outputs": [
    {
     "data": {
      "text/html": [
       "<div>\n",
       "<style scoped>\n",
       "    .dataframe tbody tr th:only-of-type {\n",
       "        vertical-align: middle;\n",
       "    }\n",
       "\n",
       "    .dataframe tbody tr th {\n",
       "        vertical-align: top;\n",
       "    }\n",
       "\n",
       "    .dataframe thead th {\n",
       "        text-align: right;\n",
       "    }\n",
       "</style>\n",
       "<table border=\"1\" class=\"dataframe\">\n",
       "  <thead>\n",
       "    <tr style=\"text-align: right;\">\n",
       "      <th></th>\n",
       "      <th>sepal_length</th>\n",
       "      <th>sepal_width</th>\n",
       "      <th>petal_length</th>\n",
       "      <th>petal_width</th>\n",
       "      <th>species</th>\n",
       "    </tr>\n",
       "  </thead>\n",
       "  <tbody>\n",
       "    <tr>\n",
       "      <th>0</th>\n",
       "      <td>8.269101</td>\n",
       "      <td>3.655907</td>\n",
       "      <td>5.521223</td>\n",
       "      <td>1.494342</td>\n",
       "      <td>setosa</td>\n",
       "    </tr>\n",
       "    <tr>\n",
       "      <th>1</th>\n",
       "      <td>5.684208</td>\n",
       "      <td>2.658021</td>\n",
       "      <td>1.863059</td>\n",
       "      <td>0.344850</td>\n",
       "      <td>versicolor</td>\n",
       "    </tr>\n",
       "    <tr>\n",
       "      <th>2</th>\n",
       "      <td>8.761068</td>\n",
       "      <td>4.475894</td>\n",
       "      <td>2.840393</td>\n",
       "      <td>0.534951</td>\n",
       "      <td>setosa</td>\n",
       "    </tr>\n",
       "    <tr>\n",
       "      <th>3</th>\n",
       "      <td>6.565719</td>\n",
       "      <td>2.692367</td>\n",
       "      <td>1.093528</td>\n",
       "      <td>-0.272941</td>\n",
       "      <td>virginica</td>\n",
       "    </tr>\n",
       "    <tr>\n",
       "      <th>4</th>\n",
       "      <td>7.907881</td>\n",
       "      <td>2.790433</td>\n",
       "      <td>6.968721</td>\n",
       "      <td>-0.355787</td>\n",
       "      <td>versicolor</td>\n",
       "    </tr>\n",
       "    <tr>\n",
       "      <th>5</th>\n",
       "      <td>8.059131</td>\n",
       "      <td>4.430478</td>\n",
       "      <td>5.432007</td>\n",
       "      <td>0.593282</td>\n",
       "      <td>setosa</td>\n",
       "    </tr>\n",
       "    <tr>\n",
       "      <th>6</th>\n",
       "      <td>6.779537</td>\n",
       "      <td>2.310708</td>\n",
       "      <td>7.277768</td>\n",
       "      <td>-0.238853</td>\n",
       "      <td>virginica</td>\n",
       "    </tr>\n",
       "    <tr>\n",
       "      <th>7</th>\n",
       "      <td>6.241710</td>\n",
       "      <td>3.658558</td>\n",
       "      <td>0.849285</td>\n",
       "      <td>0.112849</td>\n",
       "      <td>setosa</td>\n",
       "    </tr>\n",
       "    <tr>\n",
       "      <th>8</th>\n",
       "      <td>6.266110</td>\n",
       "      <td>3.733859</td>\n",
       "      <td>3.391366</td>\n",
       "      <td>0.461247</td>\n",
       "      <td>versicolor</td>\n",
       "    </tr>\n",
       "    <tr>\n",
       "      <th>9</th>\n",
       "      <td>7.616129</td>\n",
       "      <td>2.175483</td>\n",
       "      <td>6.640567</td>\n",
       "      <td>0.339925</td>\n",
       "      <td>versicolor</td>\n",
       "    </tr>\n",
       "    <tr>\n",
       "      <th>10</th>\n",
       "      <td>6.837406</td>\n",
       "      <td>2.872582</td>\n",
       "      <td>0.594709</td>\n",
       "      <td>0.862085</td>\n",
       "      <td>setosa</td>\n",
       "    </tr>\n",
       "    <tr>\n",
       "      <th>11</th>\n",
       "      <td>6.203882</td>\n",
       "      <td>3.637022</td>\n",
       "      <td>4.767646</td>\n",
       "      <td>1.480259</td>\n",
       "      <td>versicolor</td>\n",
       "    </tr>\n",
       "    <tr>\n",
       "      <th>12</th>\n",
       "      <td>7.378937</td>\n",
       "      <td>3.248235</td>\n",
       "      <td>0.995933</td>\n",
       "      <td>-0.260066</td>\n",
       "      <td>versicolor</td>\n",
       "    </tr>\n",
       "    <tr>\n",
       "      <th>13</th>\n",
       "      <td>8.536587</td>\n",
       "      <td>2.034822</td>\n",
       "      <td>6.859502</td>\n",
       "      <td>0.048973</td>\n",
       "      <td>virginica</td>\n",
       "    </tr>\n",
       "    <tr>\n",
       "      <th>14</th>\n",
       "      <td>6.561424</td>\n",
       "      <td>4.096848</td>\n",
       "      <td>0.950783</td>\n",
       "      <td>-0.038702</td>\n",
       "      <td>virginica</td>\n",
       "    </tr>\n",
       "    <tr>\n",
       "      <th>15</th>\n",
       "      <td>8.382814</td>\n",
       "      <td>2.883127</td>\n",
       "      <td>1.677355</td>\n",
       "      <td>0.344144</td>\n",
       "      <td>versicolor</td>\n",
       "    </tr>\n",
       "    <tr>\n",
       "      <th>16</th>\n",
       "      <td>6.877173</td>\n",
       "      <td>2.191342</td>\n",
       "      <td>5.014780</td>\n",
       "      <td>-0.321482</td>\n",
       "      <td>virginica</td>\n",
       "    </tr>\n",
       "    <tr>\n",
       "      <th>17</th>\n",
       "      <td>7.735176</td>\n",
       "      <td>3.527824</td>\n",
       "      <td>2.450024</td>\n",
       "      <td>0.070347</td>\n",
       "      <td>virginica</td>\n",
       "    </tr>\n",
       "    <tr>\n",
       "      <th>18</th>\n",
       "      <td>5.283859</td>\n",
       "      <td>2.104776</td>\n",
       "      <td>2.431731</td>\n",
       "      <td>0.122703</td>\n",
       "      <td>versicolor</td>\n",
       "    </tr>\n",
       "    <tr>\n",
       "      <th>19</th>\n",
       "      <td>6.818323</td>\n",
       "      <td>1.849656</td>\n",
       "      <td>0.992352</td>\n",
       "      <td>0.695074</td>\n",
       "      <td>virginica</td>\n",
       "    </tr>\n",
       "  </tbody>\n",
       "</table>\n",
       "</div>"
      ],
      "text/plain": [
       "    sepal_length  sepal_width  petal_length  petal_width     species\n",
       "0       8.269101     3.655907      5.521223     1.494342      setosa\n",
       "1       5.684208     2.658021      1.863059     0.344850  versicolor\n",
       "2       8.761068     4.475894      2.840393     0.534951      setosa\n",
       "3       6.565719     2.692367      1.093528    -0.272941   virginica\n",
       "4       7.907881     2.790433      6.968721    -0.355787  versicolor\n",
       "5       8.059131     4.430478      5.432007     0.593282      setosa\n",
       "6       6.779537     2.310708      7.277768    -0.238853   virginica\n",
       "7       6.241710     3.658558      0.849285     0.112849      setosa\n",
       "8       6.266110     3.733859      3.391366     0.461247  versicolor\n",
       "9       7.616129     2.175483      6.640567     0.339925  versicolor\n",
       "10      6.837406     2.872582      0.594709     0.862085      setosa\n",
       "11      6.203882     3.637022      4.767646     1.480259  versicolor\n",
       "12      7.378937     3.248235      0.995933    -0.260066  versicolor\n",
       "13      8.536587     2.034822      6.859502     0.048973   virginica\n",
       "14      6.561424     4.096848      0.950783    -0.038702   virginica\n",
       "15      8.382814     2.883127      1.677355     0.344144  versicolor\n",
       "16      6.877173     2.191342      5.014780    -0.321482   virginica\n",
       "17      7.735176     3.527824      2.450024     0.070347   virginica\n",
       "18      5.283859     2.104776      2.431731     0.122703  versicolor\n",
       "19      6.818323     1.849656      0.992352     0.695074   virginica"
      ]
     },
     "execution_count": 14,
     "metadata": {},
     "output_type": "execute_result"
    }
   ],
   "source": [
    "synthetic_iris = ctgan.sample(1000)\n",
    "synthetic_iris.head(20)"
   ]
  },
  {
   "cell_type": "code",
   "execution_count": 16,
   "id": "130de0a5-727d-4668-b732-545563d73126",
   "metadata": {},
   "outputs": [
    {
     "name": "stdout",
     "output_type": "stream",
     "text": [
      "Synthetic data saved to 'synthetic_iris_data.csv'\n"
     ]
    }
   ],
   "source": [
    "synthetic_iris.to_csv(\"synthetic_iris_data.csv\", index=False)\n",
    "print(\"Synthetic data saved to 'synthetic_iris_data.csv'\")\n"
   ]
  },
  {
   "cell_type": "code",
   "execution_count": 18,
   "id": "96d4b1dd-0334-4ddb-92c6-cae354bca37b",
   "metadata": {},
   "outputs": [],
   "source": [
    "# !pip show streamlit"
   ]
  },
  {
   "cell_type": "code",
   "execution_count": null,
   "id": "8c6b5614-3221-4399-a615-7a6eb8fdf1c2",
   "metadata": {},
   "outputs": [],
   "source": [
    "# pip install streamlit==1.31.1\n"
   ]
  }
 ],
 "metadata": {
  "kernelspec": {
   "display_name": "Python 3 (ipykernel)",
   "language": "python",
   "name": "python3"
  },
  "language_info": {
   "codemirror_mode": {
    "name": "ipython",
    "version": 3
   },
   "file_extension": ".py",
   "mimetype": "text/x-python",
   "name": "python",
   "nbconvert_exporter": "python",
   "pygments_lexer": "ipython3",
   "version": "3.11.7"
  }
 },
 "nbformat": 4,
 "nbformat_minor": 5
}
