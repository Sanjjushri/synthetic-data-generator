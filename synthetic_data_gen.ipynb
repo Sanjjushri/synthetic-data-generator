{
 "cells": [
  {
   "cell_type": "code",
   "execution_count": null,
   "id": "5add726f-5d63-473f-9e1e-2d20a1d1d10d",
   "metadata": {},
   "outputs": [
    {
     "name": "stdout",
     "output_type": "stream",
     "text": [
      "Name: synthia\n",
      "Version: 1.1.0\n",
      "Summary: Multidimensional synthetic data generation in Python\n",
      "Home-page: https://github.com/dmey/synthia\n",
      "Author: D. Meyer, T. Nagler\n",
      "Author-email: \n",
      "License: MIT\n",
      "Location: /opt/homebrew/Caskroom/miniconda/base/envs/ml38/lib/python3.8/site-packages\n",
      "Requires: bottleneck, numpy, scipy, xarray\n",
      "Required-by: \n",
      "Note: you may need to restart the kernel to use updated packages.\n"
     ]
    }
   ],
   "source": [
    "pip show synthia"
   ]
  },
  {
   "cell_type": "code",
   "execution_count": 8,
   "id": "6ac8ba0d-4029-40fc-be5f-1d0fc2487be4",
   "metadata": {},
   "outputs": [],
   "source": [
    "import pandas as pd\n",
    "import numpy as np\n",
    "import synthia as syn"
   ]
  },
  {
   "cell_type": "code",
   "execution_count": 9,
   "id": "74734a7f-a8dc-4e20-8b40-ecb86b308faa",
   "metadata": {},
   "outputs": [],
   "source": [
    "# Load the original data    \n",
    "data  = pd.read_csv(\"/Users/sanjju/projects/datasets/crude_oil_import_prices.csv\", index_col=0)    \n",
    "\n",
    "# Get file datatypes    \n",
    "dtypes = data.dtypes    \n",
    "\n",
    "# Get the names of the columns with numeric types    \n",
    "numeric = data.columns[dtypes.apply(pd.api.types.is_numeric_dtype)]    \n",
    "\n",
    "# Extract numeric subset    \n",
    "subset = data.loc[:,numeric].replace(np.nan, 0)"
   ]
  },
  {
   "cell_type": "code",
   "execution_count": 10,
   "id": "264bfcf3-bbf8-4874-962f-b7b6cf5ee0b2",
   "metadata": {},
   "outputs": [],
   "source": [
    "# Create Generator    \n",
    "generator = syn.CopulaDataGenerator() \n",
    "\n"
   ]
  },
  {
   "cell_type": "code",
   "execution_count": 12,
   "id": "4c5e451c-1828-4be4-9369-9c2272cc67f2",
   "metadata": {},
   "outputs": [],
   "source": [
    "# Define Coupla and Parameterizer    \n",
    "parameterizer = syn.QuantileParameterizer(n_quantiles=100)       \n"
   ]
  },
  {
   "cell_type": "code",
   "execution_count": 13,
   "id": "03538545-2f89-42c1-a266-5e7f5c4ba212",
   "metadata": {},
   "outputs": [
    {
     "ename": "AssertionError",
     "evalue": "",
     "output_type": "error",
     "traceback": [
      "\u001b[0;31m---------------------------------------------------------------------------\u001b[0m",
      "\u001b[0;31mAssertionError\u001b[0m                            Traceback (most recent call last)",
      "Input \u001b[0;32mIn [13]\u001b[0m, in \u001b[0;36m<cell line: 1>\u001b[0;34m()\u001b[0m\n\u001b[0;32m----> 1\u001b[0m \u001b[43mgenerator\u001b[49m\u001b[38;5;241;43m.\u001b[39;49m\u001b[43mfit\u001b[49m\u001b[43m(\u001b[49m\u001b[43msubset\u001b[49m\u001b[43m,\u001b[49m\u001b[43m \u001b[49m\u001b[43mcopula\u001b[49m\u001b[38;5;241;43m=\u001b[39;49m\u001b[43msyn\u001b[49m\u001b[38;5;241;43m.\u001b[39;49m\u001b[43mGaussianCopula\u001b[49m\u001b[43m(\u001b[49m\u001b[43m)\u001b[49m\u001b[43m,\u001b[49m\u001b[43m \u001b[49m\u001b[43mparameterize_by\u001b[49m\u001b[38;5;241;43m=\u001b[39;49m\u001b[43mparameterizer\u001b[49m\u001b[43m)\u001b[49m\n",
      "File \u001b[0;32m/opt/homebrew/Caskroom/miniconda/base/envs/ml38/lib/python3.8/site-packages/synthia/generators/copula.py:134\u001b[0m, in \u001b[0;36mCopulaDataGenerator.fit\u001b[0;34m(self, data, copula, types, parameterize_by)\u001b[0m\n\u001b[1;32m    132\u001b[0m     copula\u001b[38;5;241m.\u001b[39mfit_with_discrete(rank_standardized, is_discrete)\n\u001b[1;32m    133\u001b[0m \u001b[38;5;28;01melse\u001b[39;00m:\n\u001b[0;32m--> 134\u001b[0m     \u001b[43mcopula\u001b[49m\u001b[38;5;241;43m.\u001b[39;49m\u001b[43mfit\u001b[49m\u001b[43m(\u001b[49m\u001b[43mrank_standardized\u001b[49m\u001b[43m)\u001b[49m\n\u001b[1;32m    136\u001b[0m \u001b[38;5;28mself\u001b[39m\u001b[38;5;241m.\u001b[39m_log(\u001b[38;5;124m'\u001b[39m\u001b[38;5;124mparameterizing data\u001b[39m\u001b[38;5;124m'\u001b[39m)\n\u001b[1;32m    137\u001b[0m \u001b[38;5;28mself\u001b[39m\u001b[38;5;241m.\u001b[39mparameterizers \u001b[38;5;241m=\u001b[39m per_feature(parameterize_by, \u001b[38;5;28mself\u001b[39m\u001b[38;5;241m.\u001b[39mdata_info)\n",
      "File \u001b[0;32m/opt/homebrew/Caskroom/miniconda/base/envs/ml38/lib/python3.8/site-packages/synthia/copulas/gaussian.py:42\u001b[0m, in \u001b[0;36mGaussianCopula.fit\u001b[0;34m(self, rank_standardized)\u001b[0m\n\u001b[1;32m     32\u001b[0m \u001b[38;5;66;03m# We need to use the standardised rank to compute\u001b[39;00m\n\u001b[1;32m     33\u001b[0m \u001b[38;5;66;03m# the correlation matrix as the ranks are done on the\u001b[39;00m\n\u001b[1;32m     34\u001b[0m \u001b[38;5;66;03m# maginals. The Gaussian copula is parameterized by a correlation \u001b[39;00m\n\u001b[0;32m   (...)\u001b[0m\n\u001b[1;32m     39\u001b[0m \u001b[38;5;66;03m# from a multivariate Gaussian distribution, where all margins are \u001b[39;00m\n\u001b[1;32m     40\u001b[0m \u001b[38;5;66;03m# Gaussian.\u001b[39;00m\n\u001b[1;32m     41\u001b[0m ppf \u001b[38;5;241m=\u001b[39m scipy\u001b[38;5;241m.\u001b[39mstats\u001b[38;5;241m.\u001b[39mnorm\u001b[38;5;241m.\u001b[39mppf(rank_standardized)\n\u001b[0;32m---> 42\u001b[0m \u001b[38;5;28mself\u001b[39m\u001b[38;5;241m.\u001b[39mcorr \u001b[38;5;241m=\u001b[39m \u001b[43mcompute_norm_corr\u001b[49m\u001b[43m(\u001b[49m\u001b[43mppf\u001b[49m\u001b[43m)\u001b[49m\n",
      "File \u001b[0;32m/opt/homebrew/Caskroom/miniconda/base/envs/ml38/lib/python3.8/site-packages/synthia/copulas/gaussian.py:90\u001b[0m, in \u001b[0;36mcompute_norm_corr\u001b[0;34m(norm_ppf)\u001b[0m\n\u001b[1;32m     87\u001b[0m \u001b[38;5;66;03m# For optimization, does corrcoef always require the full copula matrix or can it\u001b[39;00m\n\u001b[1;32m     88\u001b[0m \u001b[38;5;66;03m# be computed iteratively to avoid loading all data into memory?\u001b[39;00m\n\u001b[1;32m     89\u001b[0m corr \u001b[38;5;241m=\u001b[39m np\u001b[38;5;241m.\u001b[39mcorrcoef(norm_ppf\u001b[38;5;241m.\u001b[39mT)\n\u001b[0;32m---> 90\u001b[0m \u001b[38;5;28;01massert\u001b[39;00m corr\u001b[38;5;241m.\u001b[39mshape \u001b[38;5;241m==\u001b[39m (n_features, n_features)\n\u001b[1;32m     91\u001b[0m \u001b[38;5;28;01mreturn\u001b[39;00m corr\n",
      "\u001b[0;31mAssertionError\u001b[0m: "
     ]
    }
   ],
   "source": [
    "generator.fit(subset, copula=syn.GaussianCopula(), parameterize_by=parameterizer)   \n"
   ]
  },
  {
   "cell_type": "code",
   "execution_count": null,
   "id": "6ce48ec4-5924-4011-9d62-1e167b081426",
   "metadata": {},
   "outputs": [],
   "source": []
  },
  {
   "cell_type": "code",
   "execution_count": null,
   "id": "88808244-4c50-4f5d-97d4-ad61248dbd17",
   "metadata": {},
   "outputs": [],
   "source": []
  },
  {
   "cell_type": "code",
   "execution_count": 14,
   "id": "0dafcaed-144e-4ef4-8f0b-41d1aee79692",
   "metadata": {},
   "outputs": [
    {
     "name": "stdout",
     "output_type": "stream",
     "text": [
      "Collecting sdv\n",
      "  Downloading sdv-1.2.0-py2.py3-none-any.whl (124 kB)\n",
      "\u001b[2K     \u001b[38;2;114;156;31m━━━━━━━━━━━━━━━━━━━━━━━━━━━━━━━━━━━━━━━\u001b[0m \u001b[32m124.6/124.6 kB\u001b[0m \u001b[31m1.2 MB/s\u001b[0m eta \u001b[36m0:00:00\u001b[0m31m69.0 MB/s\u001b[0m eta \u001b[36m0:00:01\u001b[0m\n",
      "\u001b[?25hCollecting botocore<2,>=1.18\n",
      "  Downloading botocore-1.31.1-py3-none-any.whl (11.0 MB)\n",
      "\u001b[2K     \u001b[38;2;114;156;31m━━━━━━━━━━━━━━━━━━━━━━━━━━━━━━━━━━━━━━━━\u001b[0m \u001b[32m11.0/11.0 MB\u001b[0m \u001b[31m1.2 MB/s\u001b[0m eta \u001b[36m0:00:00\u001b[0mm eta \u001b[36m0:00:01\u001b[0m[36m0:00:01\u001b[0m\n",
      "\u001b[?25hCollecting rdt<2,>=1.5.0\n",
      "  Downloading rdt-1.5.0-py2.py3-none-any.whl (66 kB)\n",
      "\u001b[2K     \u001b[38;2;114;156;31m━━━━━━━━━━━━━━━━━━━━━━━━━━━━━━━━━━━━━━━━\u001b[0m \u001b[32m66.9/66.9 kB\u001b[0m \u001b[31m3.6 MB/s\u001b[0m eta \u001b[36m0:00:00\u001b[0m\n",
      "\u001b[?25hRequirement already satisfied: numpy<2,>=1.20.0 in /opt/homebrew/Caskroom/miniconda/base/envs/ml38/lib/python3.8/site-packages (from sdv) (1.22.3)\n",
      "Collecting deepecho<0.5,>=0.4.1\n",
      "  Downloading deepecho-0.4.1-py2.py3-none-any.whl (28 kB)\n",
      "Requirement already satisfied: tqdm<5,>=4.15 in /opt/homebrew/Caskroom/miniconda/base/envs/ml38/lib/python3.8/site-packages (from sdv) (4.65.0)\n",
      "Requirement already satisfied: pandas>=1.1.3 in /opt/homebrew/Caskroom/miniconda/base/envs/ml38/lib/python3.8/site-packages (from sdv) (1.4.2)\n",
      "Collecting boto3<2,>=1.15.0\n",
      "  Downloading boto3-1.28.1-py3-none-any.whl (135 kB)\n",
      "\u001b[2K     \u001b[38;2;114;156;31m━━━━━━━━━━━━━━━━━━━━━━━━━━━━━━━━━━━━━\u001b[0m \u001b[32m135.7/135.7 kB\u001b[0m \u001b[31m989.3 kB/s\u001b[0m eta \u001b[36m0:00:00\u001b[0m1m889.5 kB/s\u001b[0m eta \u001b[36m0:00:01\u001b[0m\n",
      "\u001b[?25hCollecting graphviz<1,>=0.13.2\n",
      "  Downloading graphviz-0.20.1-py3-none-any.whl (47 kB)\n",
      "\u001b[2K     \u001b[38;2;114;156;31m━━━━━━━━━━━━━━━━━━━━━━━━━━━━━━━━━━━━━━━━\u001b[0m \u001b[32m47.0/47.0 kB\u001b[0m \u001b[31m1.4 MB/s\u001b[0m eta \u001b[36m0:00:00\u001b[0m\n",
      "\u001b[?25hCollecting ctgan<0.8,>=0.7.2\n",
      "  Downloading ctgan-0.7.3-py2.py3-none-any.whl (26 kB)\n",
      "Collecting Faker<15,>=10\n",
      "  Downloading Faker-14.2.1-py3-none-any.whl (1.6 MB)\n",
      "\u001b[2K     \u001b[38;2;114;156;31m━━━━━━━━━━━━━━━━━━━━━━━━━━━━━━━━━━━━━━━━\u001b[0m \u001b[32m1.6/1.6 MB\u001b[0m \u001b[31m1.2 MB/s\u001b[0m eta \u001b[36m0:00:00\u001b[0m[36m0:00:01\u001b[0mm eta \u001b[36m0:00:01\u001b[0m\n",
      "\u001b[?25hCollecting sdmetrics<0.11,>=0.10.0\n",
      "  Downloading sdmetrics-0.10.1-py2.py3-none-any.whl (145 kB)\n",
      "\u001b[2K     \u001b[38;2;114;156;31m━━━━━━━━━━━━━━━━━━━━━━━━━━━━━━━━━━━━━━━\u001b[0m \u001b[32m145.1/145.1 kB\u001b[0m \u001b[31m1.0 MB/s\u001b[0m eta \u001b[36m0:00:00\u001b[0m1m298.8 kB/s\u001b[0m eta \u001b[36m0:00:01\u001b[0m\n",
      "\u001b[?25hRequirement already satisfied: cloudpickle<3.0,>=2.1.0 in /opt/homebrew/Caskroom/miniconda/base/envs/ml38/lib/python3.8/site-packages (from sdv) (2.1.0)\n",
      "Collecting copulas<0.10,>=0.9.0\n",
      "  Downloading copulas-0.9.0-py2.py3-none-any.whl (54 kB)\n",
      "\u001b[2K     \u001b[38;2;114;156;31m━━━━━━━━━━━━━━━━━━━━━━━━━━━━━━━━━━━━━━━━\u001b[0m \u001b[32m54.3/54.3 kB\u001b[0m \u001b[31m4.9 MB/s\u001b[0m eta \u001b[36m0:00:00\u001b[0m\n",
      "\u001b[?25hCollecting s3transfer<0.7.0,>=0.6.0\n",
      "  Downloading s3transfer-0.6.1-py3-none-any.whl (79 kB)\n",
      "\u001b[2K     \u001b[38;2;114;156;31m━━━━━━━━━━━━━━━━━━━━━━━━━━━━━━━━━━━━━━━━\u001b[0m \u001b[32m79.8/79.8 kB\u001b[0m \u001b[31m7.3 MB/s\u001b[0m eta \u001b[36m0:00:00\u001b[0m\n",
      "\u001b[?25hCollecting jmespath<2.0.0,>=0.7.1\n",
      "  Downloading jmespath-1.0.1-py3-none-any.whl (20 kB)\n",
      "Requirement already satisfied: urllib3<1.27,>=1.25.4 in /opt/homebrew/Caskroom/miniconda/base/envs/ml38/lib/python3.8/site-packages (from botocore<2,>=1.18->sdv) (1.26.14)\n",
      "Requirement already satisfied: python-dateutil<3.0.0,>=2.1 in /opt/homebrew/Caskroom/miniconda/base/envs/ml38/lib/python3.8/site-packages (from botocore<2,>=1.18->sdv) (2.8.2)\n",
      "Requirement already satisfied: matplotlib<4,>=3.4.0 in /opt/homebrew/Caskroom/miniconda/base/envs/ml38/lib/python3.8/site-packages (from copulas<0.10,>=0.9.0->sdv) (3.6.3)\n",
      "Requirement already satisfied: scipy<2,>=1.5.4 in /opt/homebrew/Caskroom/miniconda/base/envs/ml38/lib/python3.8/site-packages (from copulas<0.10,>=0.9.0->sdv) (1.10.0)\n",
      "Requirement already satisfied: torch>=1.8.0 in /opt/homebrew/Caskroom/miniconda/base/envs/ml38/lib/python3.8/site-packages (from ctgan<0.8,>=0.7.2->sdv) (1.10.0)\n",
      "Requirement already satisfied: packaging<22,>=20 in /opt/homebrew/Caskroom/miniconda/base/envs/ml38/lib/python3.8/site-packages (from ctgan<0.8,>=0.7.2->sdv) (21.3)\n",
      "Requirement already satisfied: pytz>=2020.1 in /opt/homebrew/Caskroom/miniconda/base/envs/ml38/lib/python3.8/site-packages (from pandas>=1.1.3->sdv) (2023.3)\n",
      "Requirement already satisfied: psutil<6,>=5.7 in /opt/homebrew/Caskroom/miniconda/base/envs/ml38/lib/python3.8/site-packages (from rdt<2,>=1.5.0->sdv) (5.9.2)\n",
      "Requirement already satisfied: scikit-learn<2,>=0.24 in /opt/homebrew/Caskroom/miniconda/base/envs/ml38/lib/python3.8/site-packages (from rdt<2,>=1.5.0->sdv) (1.1.1)\n",
      "Collecting plotly<6,>=5.10.0\n",
      "  Downloading plotly-5.15.0-py2.py3-none-any.whl (15.5 MB)\n",
      "\u001b[2K     \u001b[38;2;114;156;31m━━━━━━━━━━━━━━━━━━━━━━━━━━━━━━━━━━━━━━━━\u001b[0m \u001b[32m15.5/15.5 MB\u001b[0m \u001b[31m1.5 MB/s\u001b[0m eta \u001b[36m0:00:00\u001b[0mm eta \u001b[36m0:00:01\u001b[0m[36m0:00:01\u001b[0m\n",
      "\u001b[?25hRequirement already satisfied: cycler>=0.10 in /opt/homebrew/Caskroom/miniconda/base/envs/ml38/lib/python3.8/site-packages (from matplotlib<4,>=3.4.0->copulas<0.10,>=0.9.0->sdv) (0.11.0)\n",
      "Requirement already satisfied: contourpy>=1.0.1 in /opt/homebrew/Caskroom/miniconda/base/envs/ml38/lib/python3.8/site-packages (from matplotlib<4,>=3.4.0->copulas<0.10,>=0.9.0->sdv) (1.0.7)\n",
      "Requirement already satisfied: fonttools>=4.22.0 in /opt/homebrew/Caskroom/miniconda/base/envs/ml38/lib/python3.8/site-packages (from matplotlib<4,>=3.4.0->copulas<0.10,>=0.9.0->sdv) (4.39.0)\n",
      "Requirement already satisfied: pyparsing>=2.2.1 in /opt/homebrew/Caskroom/miniconda/base/envs/ml38/lib/python3.8/site-packages (from matplotlib<4,>=3.4.0->copulas<0.10,>=0.9.0->sdv) (3.0.8)\n",
      "Requirement already satisfied: kiwisolver>=1.0.1 in /opt/homebrew/Caskroom/miniconda/base/envs/ml38/lib/python3.8/site-packages (from matplotlib<4,>=3.4.0->copulas<0.10,>=0.9.0->sdv) (1.4.4)\n",
      "Requirement already satisfied: pillow>=6.2.0 in /opt/homebrew/Caskroom/miniconda/base/envs/ml38/lib/python3.8/site-packages (from matplotlib<4,>=3.4.0->copulas<0.10,>=0.9.0->sdv) (9.4.0)\n",
      "Requirement already satisfied: tenacity>=6.2.0 in /opt/homebrew/Caskroom/miniconda/base/envs/ml38/lib/python3.8/site-packages (from plotly<6,>=5.10.0->sdmetrics<0.11,>=0.10.0->sdv) (8.2.2)\n",
      "Requirement already satisfied: six>=1.5 in /opt/homebrew/Caskroom/miniconda/base/envs/ml38/lib/python3.8/site-packages (from python-dateutil<3.0.0,>=2.1->botocore<2,>=1.18->sdv) (1.16.0)\n",
      "Requirement already satisfied: threadpoolctl>=2.0.0 in /opt/homebrew/Caskroom/miniconda/base/envs/ml38/lib/python3.8/site-packages (from scikit-learn<2,>=0.24->rdt<2,>=1.5.0->sdv) (3.1.0)\n",
      "Requirement already satisfied: joblib>=1.0.0 in /opt/homebrew/Caskroom/miniconda/base/envs/ml38/lib/python3.8/site-packages (from scikit-learn<2,>=0.24->rdt<2,>=1.5.0->sdv) (1.1.1)\n",
      "Requirement already satisfied: typing-extensions in /opt/homebrew/Caskroom/miniconda/base/envs/ml38/lib/python3.8/site-packages (from torch>=1.8.0->ctgan<0.8,>=0.7.2->sdv) (4.2.0)\n",
      "Installing collected packages: jmespath, graphviz, plotly, Faker, botocore, s3transfer, rdt, deepecho, copulas, sdmetrics, ctgan, boto3, sdv\n",
      "  Attempting uninstall: plotly\n",
      "    Found existing installation: plotly 5.9.0\n",
      "    Uninstalling plotly-5.9.0:\n",
      "      Successfully uninstalled plotly-5.9.0\n",
      "Successfully installed Faker-14.2.1 boto3-1.28.1 botocore-1.31.1 copulas-0.9.0 ctgan-0.7.3 deepecho-0.4.1 graphviz-0.20.1 jmespath-1.0.1 plotly-5.15.0 rdt-1.5.0 s3transfer-0.6.1 sdmetrics-0.10.1 sdv-1.2.0\n"
     ]
    }
   ],
   "source": [
    "!pip install sdv\n"
   ]
  },
  {
   "cell_type": "code",
   "execution_count": 15,
   "id": "15021996-de7f-4e15-9430-5d3af3c154dc",
   "metadata": {},
   "outputs": [
    {
     "data": {
      "text/html": [
       "<div>\n",
       "<style scoped>\n",
       "    .dataframe tbody tr th:only-of-type {\n",
       "        vertical-align: middle;\n",
       "    }\n",
       "\n",
       "    .dataframe tbody tr th {\n",
       "        vertical-align: top;\n",
       "    }\n",
       "\n",
       "    .dataframe thead th {\n",
       "        text-align: right;\n",
       "    }\n",
       "</style>\n",
       "<table border=\"1\" class=\"dataframe\">\n",
       "  <thead>\n",
       "    <tr style=\"text-align: right;\">\n",
       "      <th></th>\n",
       "      <th>index</th>\n",
       "      <th>LOCATION</th>\n",
       "      <th>INDICATOR</th>\n",
       "      <th>SUBJECT</th>\n",
       "      <th>MEASURE</th>\n",
       "      <th>FREQUENCY</th>\n",
       "      <th>TIME</th>\n",
       "      <th>Value</th>\n",
       "      <th>Flag Codes</th>\n",
       "    </tr>\n",
       "  </thead>\n",
       "  <tbody>\n",
       "    <tr>\n",
       "      <th>0</th>\n",
       "      <td>0</td>\n",
       "      <td>AUS</td>\n",
       "      <td>OILIMPPRICE</td>\n",
       "      <td>TOT</td>\n",
       "      <td>USD_BAR</td>\n",
       "      <td>A</td>\n",
       "      <td>1980</td>\n",
       "      <td>31.81</td>\n",
       "      <td>NaN</td>\n",
       "    </tr>\n",
       "    <tr>\n",
       "      <th>1</th>\n",
       "      <td>1</td>\n",
       "      <td>AUS</td>\n",
       "      <td>OILIMPPRICE</td>\n",
       "      <td>TOT</td>\n",
       "      <td>USD_BAR</td>\n",
       "      <td>A</td>\n",
       "      <td>1981</td>\n",
       "      <td>35.88</td>\n",
       "      <td>NaN</td>\n",
       "    </tr>\n",
       "    <tr>\n",
       "      <th>2</th>\n",
       "      <td>2</td>\n",
       "      <td>AUS</td>\n",
       "      <td>OILIMPPRICE</td>\n",
       "      <td>TOT</td>\n",
       "      <td>USD_BAR</td>\n",
       "      <td>A</td>\n",
       "      <td>1982</td>\n",
       "      <td>35.42</td>\n",
       "      <td>NaN</td>\n",
       "    </tr>\n",
       "    <tr>\n",
       "      <th>3</th>\n",
       "      <td>3</td>\n",
       "      <td>AUS</td>\n",
       "      <td>OILIMPPRICE</td>\n",
       "      <td>TOT</td>\n",
       "      <td>USD_BAR</td>\n",
       "      <td>A</td>\n",
       "      <td>1983</td>\n",
       "      <td>30.88</td>\n",
       "      <td>NaN</td>\n",
       "    </tr>\n",
       "    <tr>\n",
       "      <th>4</th>\n",
       "      <td>4</td>\n",
       "      <td>AUS</td>\n",
       "      <td>OILIMPPRICE</td>\n",
       "      <td>TOT</td>\n",
       "      <td>USD_BAR</td>\n",
       "      <td>A</td>\n",
       "      <td>1984</td>\n",
       "      <td>29.19</td>\n",
       "      <td>NaN</td>\n",
       "    </tr>\n",
       "  </tbody>\n",
       "</table>\n",
       "</div>"
      ],
      "text/plain": [
       "   index LOCATION    INDICATOR SUBJECT  MEASURE FREQUENCY  TIME  Value  \\\n",
       "0      0      AUS  OILIMPPRICE     TOT  USD_BAR         A  1980  31.81   \n",
       "1      1      AUS  OILIMPPRICE     TOT  USD_BAR         A  1981  35.88   \n",
       "2      2      AUS  OILIMPPRICE     TOT  USD_BAR         A  1982  35.42   \n",
       "3      3      AUS  OILIMPPRICE     TOT  USD_BAR         A  1983  30.88   \n",
       "4      4      AUS  OILIMPPRICE     TOT  USD_BAR         A  1984  29.19   \n",
       "\n",
       "  Flag Codes  \n",
       "0        NaN  \n",
       "1        NaN  \n",
       "2        NaN  \n",
       "3        NaN  \n",
       "4        NaN  "
      ]
     },
     "execution_count": 15,
     "metadata": {},
     "output_type": "execute_result"
    }
   ],
   "source": [
    "data = pd.read_csv('/Users/sanjju/projects/datasets/crude_oil_import_prices.csv')\n",
    "data.head()"
   ]
  },
  {
   "cell_type": "code",
   "execution_count": 24,
   "id": "7b792598-bd16-4cb8-9ebd-41c1dcef96e1",
   "metadata": {},
   "outputs": [
    {
     "name": "stdout",
     "output_type": "stream",
     "text": [
      "Name: sdv\n",
      "Version: 1.2.0\n",
      "Summary: Generate synthetic data for single table, multi table and sequential data\n",
      "Home-page: https://github.com/sdv-dev/SDV\n",
      "Author: DataCebo, Inc.\n",
      "Author-email: info@sdv.dev\n",
      "License: BSL-1.1\n",
      "Location: /opt/homebrew/Caskroom/miniconda/base/envs/ml38/lib/python3.8/site-packages\n",
      "Requires: boto3, botocore, cloudpickle, copulas, ctgan, deepecho, Faker, graphviz, numpy, pandas, rdt, sdmetrics, tqdm\n",
      "Required-by: \n"
     ]
    }
   ],
   "source": [
    "!pip show sdv"
   ]
  },
  {
   "cell_type": "code",
   "execution_count": 25,
   "id": "3283bd74-e062-4def-8232-992e616578f6",
   "metadata": {},
   "outputs": [],
   "source": [
    "import sdv"
   ]
  },
  {
   "cell_type": "code",
   "execution_count": 26,
   "id": "05aa74c7-3ade-4ea3-8ad4-8610b3c95a8a",
   "metadata": {},
   "outputs": [
    {
     "ename": "ModuleNotFoundError",
     "evalue": "No module named 'sdv.tabular'",
     "output_type": "error",
     "traceback": [
      "\u001b[0;31m---------------------------------------------------------------------------\u001b[0m",
      "\u001b[0;31mModuleNotFoundError\u001b[0m                       Traceback (most recent call last)",
      "Input \u001b[0;32mIn [26]\u001b[0m, in \u001b[0;36m<cell line: 1>\u001b[0;34m()\u001b[0m\n\u001b[0;32m----> 1\u001b[0m \u001b[38;5;28;01mfrom\u001b[39;00m \u001b[38;5;21;01msdv\u001b[39;00m\u001b[38;5;21;01m.\u001b[39;00m\u001b[38;5;21;01mtabular\u001b[39;00m \u001b[38;5;28;01mimport\u001b[39;00m GaussianCopula\n\u001b[1;32m      2\u001b[0m model \u001b[38;5;241m=\u001b[39m GaussianCopula()\n\u001b[1;32m      3\u001b[0m model\u001b[38;5;241m.\u001b[39mfit(data)\n",
      "\u001b[0;31mModuleNotFoundError\u001b[0m: No module named 'sdv.tabular'"
     ]
    }
   ],
   "source": [
    "from sdv.tabular import GaussianCopula\n",
    "model = GaussianCopula()\n",
    "model.fit(data)"
   ]
  },
  {
   "cell_type": "code",
   "execution_count": 31,
   "id": "bd1a5435-d0ca-4473-ae48-ac09c49c1ab0",
   "metadata": {},
   "outputs": [
    {
     "name": "stderr",
     "output_type": "stream",
     "text": [
      "usage: ipykernel_launcher.py [-h] [-i] files [files ...]\n",
      "ipykernel_launcher.py: error: unrecognized arguments: -f\n"
     ]
    },
    {
     "ename": "SystemExit",
     "evalue": "2",
     "output_type": "error",
     "traceback": [
      "An exception has occurred, use %tb to see the full traceback.\n",
      "\u001b[0;31mSystemExit\u001b[0m\u001b[0;31m:\u001b[0m 2\n"
     ]
    }
   ],
   "source": [
    "\n",
    "import pandas as pd\n",
    "import numpy as np\n",
    "import synthia as syn\n",
    "import argparse\n",
    "import warnings, pickle, sys\n",
    "warnings.filterwarnings('ignore')\n",
    "\n",
    "\n",
    "parser = argparse.ArgumentParser()      \n",
    "parser.add_argument('files', type=argparse.FileType('r'), nargs='+')\n",
    "parser.add_argument('-i','--independant', action='store_false')\n",
    "args = parser.parse_args()\n",
    "\n",
    "\n",
    "coupled = args.independant\n",
    "\n",
    "\n",
    "\n",
    "def get_synthetic_data():\n",
    "\n",
    "    # Load the original data\n",
    "    data  = pd.read_csv(\"/Users/sanjju/projects/datasets/crude_oil_import_prices.csv\", index_col=0)\n",
    "    # Get file datatypes\n",
    "    dtypes = data.dtypes\n",
    "    # Get the names of the columns with numeric types\n",
    "    numeric = data.columns[dtypes.apply(pd.api.types.is_numeric_dtype)]\n",
    "    # Extract numeric subset\n",
    "    subset = data.loc[:,numeric].replace(np.nan, 0)\n",
    "\n",
    "    # Create Generator\n",
    "    generator = syn.CopulaDataGenerator()\n",
    "\n",
    "    # Define Coupla and Parameterizer\n",
    "    if coupled:\n",
    "        parameterizer = syn.QuantileParameterizer(n_quantiles=100)\n",
    "        generator.fit(subset, copula=syn.GaussianCopula(), parameterize_by=parameterizer)\n",
    "    else:\n",
    "        generator.fit(subset, copula=syn.IndependenceCopula())\n",
    "\n",
    "\n",
    "    print(f'Storage size: {len(pickle.dumps(generator))} bytes')\n",
    "\n",
    "    # Generate our samples to the same shape as the original data\n",
    "    samples = generator.generate(n_samples=len(subset), uniformization_ratio=0, stretch_factor=1)\n",
    "    synthetic = pd.DataFrame(samples, columns = subset.columns, index = subset.index)\n",
    "\n",
    "    # Create a new dataframe with the synthetic data\n",
    "    update = data.loc[:]\n",
    "    update.loc[:,numeric]= synthetic.loc[:,numeric]\n",
    "    update = update.astype(dtypes)\n",
    "\n",
    "    # save the new dataframe\n",
    "    update.to_csv(fname.replace('.csv', '_synthetic.csv'))\n",
    "\n",
    "\n",
    "if __name__ == '__main__':\n",
    "\n",
    "    # for fname in args.files:\n",
    "    #     print(f'Processing {fname.name}')\n",
    "    get_synthetic_data()\n"
   ]
  },
  {
   "cell_type": "code",
   "execution_count": null,
   "id": "0647d284-9e84-42b1-b02c-bc7f51bbc22f",
   "metadata": {},
   "outputs": [],
   "source": []
  },
  {
   "cell_type": "code",
   "execution_count": null,
   "id": "aada8053-f430-433c-899e-3c2b0ec8225a",
   "metadata": {},
   "outputs": [],
   "source": []
  },
  {
   "cell_type": "code",
   "execution_count": null,
   "id": "0a788d8f-b09c-4fbe-89b8-8038693495fd",
   "metadata": {},
   "outputs": [],
   "source": []
  },
  {
   "cell_type": "code",
   "execution_count": null,
   "id": "13854f85-9113-4dbc-bced-fdb26cc2e0cd",
   "metadata": {},
   "outputs": [],
   "source": []
  },
  {
   "cell_type": "code",
   "execution_count": null,
   "id": "5563d684-f230-4f0c-bf66-a3abd5fe051e",
   "metadata": {},
   "outputs": [],
   "source": []
  },
  {
   "cell_type": "markdown",
   "id": "f0e5753d-e72c-487d-8ab4-4b4d5ff4fd2a",
   "metadata": {},
   "source": [
    "Using sklearn direct make_something "
   ]
  },
  {
   "cell_type": "code",
   "execution_count": 2,
   "id": "51357510-2b33-4a17-a5d5-21308d64c13d",
   "metadata": {},
   "outputs": [],
   "source": [
    "from sklearn.datasets import make_classification, make_regression\n",
    "\n",
    "X, y = make_classification(n_samples=50, n_informative=5, n_classes=3, n_clusters_per_class=3)"
   ]
  },
  {
   "cell_type": "code",
   "execution_count": 4,
   "id": "2e45f96a-337d-4ca1-a020-00a188ffc0c1",
   "metadata": {},
   "outputs": [
    {
     "data": {
      "text/html": [
       "<div>\n",
       "<style scoped>\n",
       "    .dataframe tbody tr th:only-of-type {\n",
       "        vertical-align: middle;\n",
       "    }\n",
       "\n",
       "    .dataframe tbody tr th {\n",
       "        vertical-align: top;\n",
       "    }\n",
       "\n",
       "    .dataframe thead th {\n",
       "        text-align: right;\n",
       "    }\n",
       "</style>\n",
       "<table border=\"1\" class=\"dataframe\">\n",
       "  <thead>\n",
       "    <tr style=\"text-align: right;\">\n",
       "      <th></th>\n",
       "      <th>0</th>\n",
       "      <th>1</th>\n",
       "      <th>2</th>\n",
       "      <th>3</th>\n",
       "      <th>4</th>\n",
       "      <th>5</th>\n",
       "      <th>6</th>\n",
       "      <th>7</th>\n",
       "      <th>8</th>\n",
       "      <th>9</th>\n",
       "      <th>...</th>\n",
       "      <th>11</th>\n",
       "      <th>12</th>\n",
       "      <th>13</th>\n",
       "      <th>14</th>\n",
       "      <th>15</th>\n",
       "      <th>16</th>\n",
       "      <th>17</th>\n",
       "      <th>18</th>\n",
       "      <th>19</th>\n",
       "      <th>target</th>\n",
       "    </tr>\n",
       "  </thead>\n",
       "  <tbody>\n",
       "    <tr>\n",
       "      <th>0</th>\n",
       "      <td>0.198302</td>\n",
       "      <td>-3.348414</td>\n",
       "      <td>-0.572171</td>\n",
       "      <td>0.915501</td>\n",
       "      <td>-2.469705</td>\n",
       "      <td>2.089844</td>\n",
       "      <td>0.205771</td>\n",
       "      <td>-0.384581</td>\n",
       "      <td>1.017645</td>\n",
       "      <td>-0.462659</td>\n",
       "      <td>...</td>\n",
       "      <td>0.301470</td>\n",
       "      <td>-0.064059</td>\n",
       "      <td>3.345067</td>\n",
       "      <td>2.475385</td>\n",
       "      <td>-0.033753</td>\n",
       "      <td>-2.776629</td>\n",
       "      <td>1.264676</td>\n",
       "      <td>1.805852</td>\n",
       "      <td>-1.034318</td>\n",
       "      <td>1</td>\n",
       "    </tr>\n",
       "    <tr>\n",
       "      <th>1</th>\n",
       "      <td>0.467426</td>\n",
       "      <td>-1.653751</td>\n",
       "      <td>0.579585</td>\n",
       "      <td>0.770727</td>\n",
       "      <td>0.965664</td>\n",
       "      <td>-0.510685</td>\n",
       "      <td>-0.060342</td>\n",
       "      <td>-3.199348</td>\n",
       "      <td>-0.186562</td>\n",
       "      <td>-3.011943</td>\n",
       "      <td>...</td>\n",
       "      <td>0.437207</td>\n",
       "      <td>-0.568295</td>\n",
       "      <td>0.437056</td>\n",
       "      <td>-1.074776</td>\n",
       "      <td>-0.839532</td>\n",
       "      <td>1.515080</td>\n",
       "      <td>-1.478734</td>\n",
       "      <td>-0.823212</td>\n",
       "      <td>-1.734999</td>\n",
       "      <td>0</td>\n",
       "    </tr>\n",
       "    <tr>\n",
       "      <th>2</th>\n",
       "      <td>-0.049958</td>\n",
       "      <td>0.225161</td>\n",
       "      <td>-1.009819</td>\n",
       "      <td>1.032423</td>\n",
       "      <td>-0.086021</td>\n",
       "      <td>0.451561</td>\n",
       "      <td>0.141304</td>\n",
       "      <td>-0.896413</td>\n",
       "      <td>-0.212936</td>\n",
       "      <td>-1.563830</td>\n",
       "      <td>...</td>\n",
       "      <td>-0.349708</td>\n",
       "      <td>2.118647</td>\n",
       "      <td>-1.392445</td>\n",
       "      <td>-0.866348</td>\n",
       "      <td>-1.103762</td>\n",
       "      <td>2.343052</td>\n",
       "      <td>1.337859</td>\n",
       "      <td>1.033657</td>\n",
       "      <td>-0.469772</td>\n",
       "      <td>0</td>\n",
       "    </tr>\n",
       "    <tr>\n",
       "      <th>3</th>\n",
       "      <td>-1.731551</td>\n",
       "      <td>-0.671302</td>\n",
       "      <td>1.751835</td>\n",
       "      <td>-1.293871</td>\n",
       "      <td>-1.121204</td>\n",
       "      <td>-0.813485</td>\n",
       "      <td>2.569463</td>\n",
       "      <td>-0.063377</td>\n",
       "      <td>0.628588</td>\n",
       "      <td>0.896844</td>\n",
       "      <td>...</td>\n",
       "      <td>1.146181</td>\n",
       "      <td>-1.438422</td>\n",
       "      <td>0.967118</td>\n",
       "      <td>0.696396</td>\n",
       "      <td>0.424131</td>\n",
       "      <td>0.336531</td>\n",
       "      <td>-0.595264</td>\n",
       "      <td>-0.995260</td>\n",
       "      <td>0.876974</td>\n",
       "      <td>1</td>\n",
       "    </tr>\n",
       "    <tr>\n",
       "      <th>4</th>\n",
       "      <td>-1.365485</td>\n",
       "      <td>-2.626567</td>\n",
       "      <td>0.458573</td>\n",
       "      <td>1.491574</td>\n",
       "      <td>1.755355</td>\n",
       "      <td>0.613708</td>\n",
       "      <td>-1.430265</td>\n",
       "      <td>-1.175663</td>\n",
       "      <td>1.808026</td>\n",
       "      <td>-2.346050</td>\n",
       "      <td>...</td>\n",
       "      <td>1.038885</td>\n",
       "      <td>1.119849</td>\n",
       "      <td>1.726664</td>\n",
       "      <td>-1.329941</td>\n",
       "      <td>1.847701</td>\n",
       "      <td>-0.800108</td>\n",
       "      <td>-1.112475</td>\n",
       "      <td>-0.480251</td>\n",
       "      <td>-1.160533</td>\n",
       "      <td>1</td>\n",
       "    </tr>\n",
       "  </tbody>\n",
       "</table>\n",
       "<p>5 rows × 21 columns</p>\n",
       "</div>"
      ],
      "text/plain": [
       "          0         1         2         3         4         5         6  \\\n",
       "0  0.198302 -3.348414 -0.572171  0.915501 -2.469705  2.089844  0.205771   \n",
       "1  0.467426 -1.653751  0.579585  0.770727  0.965664 -0.510685 -0.060342   \n",
       "2 -0.049958  0.225161 -1.009819  1.032423 -0.086021  0.451561  0.141304   \n",
       "3 -1.731551 -0.671302  1.751835 -1.293871 -1.121204 -0.813485  2.569463   \n",
       "4 -1.365485 -2.626567  0.458573  1.491574  1.755355  0.613708 -1.430265   \n",
       "\n",
       "          7         8         9  ...        11        12        13        14  \\\n",
       "0 -0.384581  1.017645 -0.462659  ...  0.301470 -0.064059  3.345067  2.475385   \n",
       "1 -3.199348 -0.186562 -3.011943  ...  0.437207 -0.568295  0.437056 -1.074776   \n",
       "2 -0.896413 -0.212936 -1.563830  ... -0.349708  2.118647 -1.392445 -0.866348   \n",
       "3 -0.063377  0.628588  0.896844  ...  1.146181 -1.438422  0.967118  0.696396   \n",
       "4 -1.175663  1.808026 -2.346050  ...  1.038885  1.119849  1.726664 -1.329941   \n",
       "\n",
       "         15        16        17        18        19  target  \n",
       "0 -0.033753 -2.776629  1.264676  1.805852 -1.034318       1  \n",
       "1 -0.839532  1.515080 -1.478734 -0.823212 -1.734999       0  \n",
       "2 -1.103762  2.343052  1.337859  1.033657 -0.469772       0  \n",
       "3  0.424131  0.336531 -0.595264 -0.995260  0.876974       1  \n",
       "4  1.847701 -0.800108 -1.112475 -0.480251 -1.160533       1  \n",
       "\n",
       "[5 rows x 21 columns]"
      ]
     },
     "execution_count": 4,
     "metadata": {},
     "output_type": "execute_result"
    }
   ],
   "source": [
    "import pandas as pd\n",
    "X_df = pd.DataFrame(X)\n",
    "y_df = pd.DataFrame(y)\n",
    "X_df[\"target\"] = y_df\n",
    "X_df.head()"
   ]
  },
  {
   "cell_type": "code",
   "execution_count": 5,
   "id": "89970368-ed17-42fa-a9ca-bcd568444780",
   "metadata": {},
   "outputs": [],
   "source": [
    "X, y = make_regression(n_samples=50, n_features=15, n_informative=8)\n"
   ]
  },
  {
   "cell_type": "code",
   "execution_count": null,
   "id": "a8c1c431-0b58-4dbf-8bb8-8e9d8803b022",
   "metadata": {},
   "outputs": [],
   "source": []
  },
  {
   "cell_type": "markdown",
   "id": "f1b1c081-957e-4be7-a99e-bc6fb0c11b01",
   "metadata": {},
   "source": [
    "Using Faker module"
   ]
  },
  {
   "cell_type": "code",
   "execution_count": 8,
   "id": "47d526a2-31ba-4cd4-8a37-6438c3cb4a72",
   "metadata": {},
   "outputs": [
    {
     "name": "stdout",
     "output_type": "stream",
     "text": [
      "Name: Faker\n",
      "Version: 14.2.1\n",
      "Summary: Faker is a Python package that generates fake data for you.\n",
      "Home-page: https://github.com/joke2k/faker\n",
      "Author: joke2k\n",
      "Author-email: joke2k@gmail.com\n",
      "License: MIT License\n",
      "Location: /opt/homebrew/Caskroom/miniconda/base/envs/ml38/lib/python3.8/site-packages\n",
      "Requires: python-dateutil\n",
      "Required-by: rdt, sdv\n"
     ]
    }
   ],
   "source": [
    "!pip show faker"
   ]
  },
  {
   "cell_type": "code",
   "execution_count": 9,
   "id": "f7085b7f-01ec-4467-8113-3d0c073d6c6c",
   "metadata": {},
   "outputs": [],
   "source": [
    "from faker import Faker \n",
    "\n",
    "fake = Faker()"
   ]
  },
  {
   "cell_type": "code",
   "execution_count": 10,
   "id": "d6646bd7-1d74-4aaf-99bd-5cdc43b8d138",
   "metadata": {},
   "outputs": [
    {
     "data": {
      "text/plain": [
       "'Jonathan Allen'"
      ]
     },
     "execution_count": 10,
     "metadata": {},
     "output_type": "execute_result"
    }
   ],
   "source": [
    "fake.name()"
   ]
  },
  {
   "cell_type": "code",
   "execution_count": 13,
   "id": "1af0dd1f-4c5f-482d-80f5-4757c6c76211",
   "metadata": {},
   "outputs": [],
   "source": [
    "df = pd.DataFrame([\n",
    "{\n",
    "\"name\":fake.name(),\n",
    "\"address\": fake.address(),\n",
    "\"birthday\": fake.date_of_birth(),\n",
    "\"email\": fake.email(),\n",
    "}\n",
    "    for _ in range(100)\n",
    "])"
   ]
  },
  {
   "cell_type": "code",
   "execution_count": 14,
   "id": "e5e20a08-f29a-43a0-be29-e421c480637a",
   "metadata": {},
   "outputs": [
    {
     "data": {
      "text/html": [
       "<div>\n",
       "<style scoped>\n",
       "    .dataframe tbody tr th:only-of-type {\n",
       "        vertical-align: middle;\n",
       "    }\n",
       "\n",
       "    .dataframe tbody tr th {\n",
       "        vertical-align: top;\n",
       "    }\n",
       "\n",
       "    .dataframe thead th {\n",
       "        text-align: right;\n",
       "    }\n",
       "</style>\n",
       "<table border=\"1\" class=\"dataframe\">\n",
       "  <thead>\n",
       "    <tr style=\"text-align: right;\">\n",
       "      <th></th>\n",
       "      <th>name</th>\n",
       "      <th>address</th>\n",
       "      <th>birthday</th>\n",
       "      <th>email</th>\n",
       "    </tr>\n",
       "  </thead>\n",
       "  <tbody>\n",
       "    <tr>\n",
       "      <th>0</th>\n",
       "      <td>Michael Pena</td>\n",
       "      <td>07063 Morgan Mission Apt. 753\\nMariahaven, CA ...</td>\n",
       "      <td>2001-12-27</td>\n",
       "      <td>freemannathan@example.com</td>\n",
       "    </tr>\n",
       "    <tr>\n",
       "      <th>1</th>\n",
       "      <td>Rebecca Cohen MD</td>\n",
       "      <td>5774 Stewart Island Apt. 645\\nTonyafort, TX 05338</td>\n",
       "      <td>1980-09-10</td>\n",
       "      <td>ngarcia@example.com</td>\n",
       "    </tr>\n",
       "    <tr>\n",
       "      <th>2</th>\n",
       "      <td>Jennifer Nguyen</td>\n",
       "      <td>Unit 7220 Box 5228\\nDPO AE 40954</td>\n",
       "      <td>1925-05-05</td>\n",
       "      <td>jesseprice@example.org</td>\n",
       "    </tr>\n",
       "    <tr>\n",
       "      <th>3</th>\n",
       "      <td>Claudia Orr</td>\n",
       "      <td>59270 Cole Motorway\\nEast Christine, MD 99637</td>\n",
       "      <td>1917-03-04</td>\n",
       "      <td>qolsen@example.net</td>\n",
       "    </tr>\n",
       "    <tr>\n",
       "      <th>4</th>\n",
       "      <td>Sharon Bryant</td>\n",
       "      <td>908 Alan Plains\\nNew Kristen, SC 78987</td>\n",
       "      <td>1988-09-02</td>\n",
       "      <td>uortiz@example.org</td>\n",
       "    </tr>\n",
       "  </tbody>\n",
       "</table>\n",
       "</div>"
      ],
      "text/plain": [
       "               name                                            address  \\\n",
       "0      Michael Pena  07063 Morgan Mission Apt. 753\\nMariahaven, CA ...   \n",
       "1  Rebecca Cohen MD  5774 Stewart Island Apt. 645\\nTonyafort, TX 05338   \n",
       "2   Jennifer Nguyen                   Unit 7220 Box 5228\\nDPO AE 40954   \n",
       "3       Claudia Orr      59270 Cole Motorway\\nEast Christine, MD 99637   \n",
       "4     Sharon Bryant             908 Alan Plains\\nNew Kristen, SC 78987   \n",
       "\n",
       "     birthday                      email  \n",
       "0  2001-12-27  freemannathan@example.com  \n",
       "1  1980-09-10        ngarcia@example.com  \n",
       "2  1925-05-05     jesseprice@example.org  \n",
       "3  1917-03-04         qolsen@example.net  \n",
       "4  1988-09-02         uortiz@example.org  "
      ]
     },
     "execution_count": 14,
     "metadata": {},
     "output_type": "execute_result"
    }
   ],
   "source": [
    "df.head()"
   ]
  },
  {
   "cell_type": "code",
   "execution_count": null,
   "id": "bcb0d2c0-230a-485b-b6e1-9a6376943632",
   "metadata": {},
   "outputs": [],
   "source": []
  },
  {
   "cell_type": "markdown",
   "id": "a386bff0-ad78-45e7-8db9-213f2058133d",
   "metadata": {},
   "source": [
    "Using pyOD library"
   ]
  },
  {
   "cell_type": "code",
   "execution_count": 16,
   "id": "501d449e-e4d8-4eae-80ce-36f923f8de96",
   "metadata": {},
   "outputs": [
    {
     "name": "stdout",
     "output_type": "stream",
     "text": [
      "Collecting pyod\n",
      "  Downloading pyod-1.1.0.tar.gz (153 kB)\n",
      "\u001b[2K     \u001b[38;2;114;156;31m━━━━━━━━━━━━━━━━━━━━━━━━━━━━━━━━━━━━━\u001b[0m \u001b[32m153.4/153.4 kB\u001b[0m \u001b[31m443.7 kB/s\u001b[0m eta \u001b[36m0:00:00\u001b[0m1m428.6 kB/s\u001b[0m eta \u001b[36m0:00:01\u001b[0m\n",
      "\u001b[?25h  Preparing metadata (setup.py) ... \u001b[?25ldone\n",
      "\u001b[?25hRequirement already satisfied: joblib in /opt/homebrew/Caskroom/miniconda/base/envs/ml38/lib/python3.8/site-packages (from pyod) (1.1.1)\n",
      "Requirement already satisfied: matplotlib in /opt/homebrew/Caskroom/miniconda/base/envs/ml38/lib/python3.8/site-packages (from pyod) (3.6.3)\n",
      "Requirement already satisfied: numpy>=1.19 in /opt/homebrew/Caskroom/miniconda/base/envs/ml38/lib/python3.8/site-packages (from pyod) (1.22.3)\n",
      "Requirement already satisfied: numba>=0.51 in /opt/homebrew/Caskroom/miniconda/base/envs/ml38/lib/python3.8/site-packages (from pyod) (0.56.4)\n",
      "Requirement already satisfied: scipy>=1.5.1 in /opt/homebrew/Caskroom/miniconda/base/envs/ml38/lib/python3.8/site-packages (from pyod) (1.10.0)\n",
      "Requirement already satisfied: scikit_learn>=0.20.0 in /opt/homebrew/Caskroom/miniconda/base/envs/ml38/lib/python3.8/site-packages (from pyod) (1.1.1)\n",
      "Requirement already satisfied: six in /opt/homebrew/Caskroom/miniconda/base/envs/ml38/lib/python3.8/site-packages (from pyod) (1.16.0)\n",
      "Requirement already satisfied: importlib-metadata in /opt/homebrew/Caskroom/miniconda/base/envs/ml38/lib/python3.8/site-packages (from numba>=0.51->pyod) (4.11.3)\n",
      "Requirement already satisfied: setuptools in /opt/homebrew/Caskroom/miniconda/base/envs/ml38/lib/python3.8/site-packages (from numba>=0.51->pyod) (61.2.0)\n",
      "Requirement already satisfied: llvmlite<0.40,>=0.39.0dev0 in /opt/homebrew/Caskroom/miniconda/base/envs/ml38/lib/python3.8/site-packages (from numba>=0.51->pyod) (0.39.1)\n",
      "Requirement already satisfied: threadpoolctl>=2.0.0 in /opt/homebrew/Caskroom/miniconda/base/envs/ml38/lib/python3.8/site-packages (from scikit_learn>=0.20.0->pyod) (3.1.0)\n",
      "Requirement already satisfied: cycler>=0.10 in /opt/homebrew/Caskroom/miniconda/base/envs/ml38/lib/python3.8/site-packages (from matplotlib->pyod) (0.11.0)\n",
      "Requirement already satisfied: fonttools>=4.22.0 in /opt/homebrew/Caskroom/miniconda/base/envs/ml38/lib/python3.8/site-packages (from matplotlib->pyod) (4.39.0)\n",
      "Requirement already satisfied: kiwisolver>=1.0.1 in /opt/homebrew/Caskroom/miniconda/base/envs/ml38/lib/python3.8/site-packages (from matplotlib->pyod) (1.4.4)\n",
      "Requirement already satisfied: contourpy>=1.0.1 in /opt/homebrew/Caskroom/miniconda/base/envs/ml38/lib/python3.8/site-packages (from matplotlib->pyod) (1.0.7)\n",
      "Requirement already satisfied: packaging>=20.0 in /opt/homebrew/Caskroom/miniconda/base/envs/ml38/lib/python3.8/site-packages (from matplotlib->pyod) (21.3)\n",
      "Requirement already satisfied: pillow>=6.2.0 in /opt/homebrew/Caskroom/miniconda/base/envs/ml38/lib/python3.8/site-packages (from matplotlib->pyod) (9.4.0)\n",
      "Requirement already satisfied: python-dateutil>=2.7 in /opt/homebrew/Caskroom/miniconda/base/envs/ml38/lib/python3.8/site-packages (from matplotlib->pyod) (2.8.2)\n",
      "Requirement already satisfied: pyparsing>=2.2.1 in /opt/homebrew/Caskroom/miniconda/base/envs/ml38/lib/python3.8/site-packages (from matplotlib->pyod) (3.0.8)\n",
      "Requirement already satisfied: zipp>=0.5 in /opt/homebrew/Caskroom/miniconda/base/envs/ml38/lib/python3.8/site-packages (from importlib-metadata->numba>=0.51->pyod) (3.8.0)\n",
      "Building wheels for collected packages: pyod\n",
      "  Building wheel for pyod (setup.py) ... \u001b[?25ldone\n",
      "\u001b[?25h  Created wheel for pyod: filename=pyod-1.1.0-py3-none-any.whl size=185349 sha256=947498de408394a674f0c4d7f2cddc2e0f088e739e68e7e66c39c2b362c6387e\n",
      "  Stored in directory: /Users/sanjju/Library/Caches/pip/wheels/77/4e/a8/442459c5124a54438dd0f2f4a48aa089d26735e3d798a6e0af\n",
      "Successfully built pyod\n",
      "Installing collected packages: pyod\n",
      "Successfully installed pyod-1.1.0\n"
     ]
    }
   ],
   "source": [
    "!pip install pyod"
   ]
  },
  {
   "cell_type": "code",
   "execution_count": 17,
   "id": "9964d156-909a-4f8a-a33a-d5fa00ee7d2c",
   "metadata": {},
   "outputs": [],
   "source": [
    "from pyod.utils.data import generate_data\n",
    "import seaborn as sns \n",
    "import matplotlib.pyplot as plt "
   ]
  },
  {
   "cell_type": "code",
   "execution_count": 18,
   "id": "ef7ef158-6776-456b-a1e2-482bdf015d05",
   "metadata": {},
   "outputs": [],
   "source": [
    "X, y = generate_data(\n",
    "    n_train=40, contamination=0.05, n_features=2, train_only=True, random_state=1\n",
    ")\n",
    "\n",
    "X_df = pd.DataFrame(X)\n",
    "X_df[\"is_anomaly\"] = pd.DataFrame(y)\n",
    "\n"
   ]
  },
  {
   "cell_type": "code",
   "execution_count": 19,
   "id": "2dd64b30-6118-42a6-96b7-04499e76107c",
   "metadata": {},
   "outputs": [
    {
     "data": {
      "text/plain": [
       "<AxesSubplot: xlabel='0', ylabel='1'>"
      ]
     },
     "execution_count": 19,
     "metadata": {},
     "output_type": "execute_result"
    },
    {
     "data": {
      "image/png": "[encoded data removed]",
      "text/plain": [
       "<Figure size 432x288 with 1 Axes>"
      ]
     },
     "metadata": {
      "needs_background": "light"
     },
     "output_type": "display_data"
    }
   ],
   "source": [
    "sns.scatterplot(data=X_df, x=0, y=1, hue=\"is_anomaly\")"
   ]
  },
  {
   "cell_type": "code",
   "execution_count": null,
   "id": "562e0da1-d1f1-4ad2-906c-db105a6a64f1",
   "metadata": {},
   "outputs": [],
   "source": []
  },
  {
   "cell_type": "markdown",
   "id": "a2c32da4-5270-4024-9e02-bee9566724ab",
   "metadata": {},
   "source": [
    "Using ctgan"
   ]
  },
  {
   "cell_type": "code",
   "execution_count": 20,
   "id": "0e11708b-68a4-43fc-9014-4bb360a80022",
   "metadata": {},
   "outputs": [
    {
     "name": "stdout",
     "output_type": "stream",
     "text": [
      "Name: ctgan\n",
      "Version: 0.7.3\n",
      "Summary: Create tabular synthetic data using a conditional GAN\n",
      "Home-page: https://github.com/sdv-dev/CTGAN\n",
      "Author: DataCebo, Inc.\n",
      "Author-email: info@sdv.dev\n",
      "License: BSL-1.1\n",
      "Location: /opt/homebrew/Caskroom/miniconda/base/envs/ml38/lib/python3.8/site-packages\n",
      "Requires: numpy, packaging, pandas, rdt, torch\n",
      "Required-by: sdv\n"
     ]
    }
   ],
   "source": [
    "!pip show ctgan"
   ]
  },
  {
   "cell_type": "code",
   "execution_count": null,
   "id": "9caa991a-7e24-42d6-8e20-9921b494bf09",
   "metadata": {},
   "outputs": [],
   "source": [
    "from ctgan import CTGAN \n",
    "from ctgan import load_demo \n",
    "\n",
    "real_data = load_demo()\n",
    "\n",
    "discrete_columns = [\n",
    "'workclass', \n",
    "]\n",
    "\n",
    "ctgan = CTGAN(epochs=10)\n",
    "ctgan.fit(real_data, discrete_columns)\n",
    "\n",
    "synthetic_data = ctgan.sample(1000)"
   ]
  },
  {
   "cell_type": "code",
   "execution_count": 22,
   "id": "730e59ea-349b-46b5-8919-f46441c1656d",
   "metadata": {},
   "outputs": [],
   "source": [
    "import seaborn as sns\n",
    "import pandas as pd\n",
    "from ctgan import CTGAN"
   ]
  },
  {
   "cell_type": "code",
   "execution_count": 23,
   "id": "d7ea3d25-0740-4f46-b774-bb042ad04ab7",
   "metadata": {},
   "outputs": [],
   "source": [
    "iris_data = sns.load_dataset(\"iris\")"
   ]
  },
  {
   "cell_type": "code",
   "execution_count": 31,
   "id": "fb9ddafe-aee7-41d9-a05a-d069ed3d8070",
   "metadata": {},
   "outputs": [],
   "source": [
    "categorical_features= iris_data.select_dtypes(exclude=\"number\").columns.tolist()"
   ]
  },
  {
   "cell_type": "code",
   "execution_count": 32,
   "id": "94e3b0fe-20c2-4050-a654-4cc4ff84f649",
   "metadata": {},
   "outputs": [
    {
     "data": {
      "text/plain": [
       "['species']"
      ]
     },
     "execution_count": 32,
     "metadata": {},
     "output_type": "execute_result"
    }
   ],
   "source": [
    "categorical_features"
   ]
  },
  {
   "cell_type": "code",
   "execution_count": 33,
   "id": "70d0da35-7920-405a-b847-b0d59ab1f0cc",
   "metadata": {},
   "outputs": [
    {
     "name": "stderr",
     "output_type": "stream",
     "text": [
      "/opt/homebrew/Caskroom/miniconda/base/envs/ml38/lib/python3.8/site-packages/rdt/transformers/base.py:132: FutureWarning: Future versions of RDT will not support the 'model_missing_values' parameter. Please switch to using the 'missing_value_generation' parameter to select your strategy.\n",
      "  warnings.warn(\n",
      "/opt/homebrew/Caskroom/miniconda/base/envs/ml38/lib/python3.8/site-packages/rdt/transformers/base.py:132: FutureWarning: Future versions of RDT will not support the 'model_missing_values' parameter. Please switch to using the 'missing_value_generation' parameter to select your strategy.\n",
      "  warnings.warn(\n",
      "/opt/homebrew/Caskroom/miniconda/base/envs/ml38/lib/python3.8/site-packages/rdt/transformers/base.py:132: FutureWarning: Future versions of RDT will not support the 'model_missing_values' parameter. Please switch to using the 'missing_value_generation' parameter to select your strategy.\n",
      "  warnings.warn(\n",
      "/opt/homebrew/Caskroom/miniconda/base/envs/ml38/lib/python3.8/site-packages/rdt/transformers/base.py:132: FutureWarning: Future versions of RDT will not support the 'model_missing_values' parameter. Please switch to using the 'missing_value_generation' parameter to select your strategy.\n",
      "  warnings.warn(\n"
     ]
    }
   ],
   "source": [
    "ctgan = CTGAN(epochs=5)\n",
    "ctgan.fit(iris_data, categorical_features)"
   ]
  },
  {
   "cell_type": "code",
   "execution_count": 34,
   "id": "4ee61c71-b2b7-4b9f-84c0-1b339f2d2513",
   "metadata": {},
   "outputs": [
    {
     "data": {
      "text/html": [
       "<div>\n",
       "<style scoped>\n",
       "    .dataframe tbody tr th:only-of-type {\n",
       "        vertical-align: middle;\n",
       "    }\n",
       "\n",
       "    .dataframe tbody tr th {\n",
       "        vertical-align: top;\n",
       "    }\n",
       "\n",
       "    .dataframe thead th {\n",
       "        text-align: right;\n",
       "    }\n",
       "</style>\n",
       "<table border=\"1\" class=\"dataframe\">\n",
       "  <thead>\n",
       "    <tr style=\"text-align: right;\">\n",
       "      <th></th>\n",
       "      <th>sepal_length</th>\n",
       "      <th>sepal_width</th>\n",
       "      <th>petal_length</th>\n",
       "      <th>petal_width</th>\n",
       "      <th>species</th>\n",
       "    </tr>\n",
       "  </thead>\n",
       "  <tbody>\n",
       "    <tr>\n",
       "      <th>0</th>\n",
       "      <td>7.179941</td>\n",
       "      <td>2.404883</td>\n",
       "      <td>4.138424</td>\n",
       "      <td>1.703750</td>\n",
       "      <td>setosa</td>\n",
       "    </tr>\n",
       "    <tr>\n",
       "      <th>1</th>\n",
       "      <td>5.907500</td>\n",
       "      <td>3.676692</td>\n",
       "      <td>4.931408</td>\n",
       "      <td>2.648358</td>\n",
       "      <td>virginica</td>\n",
       "    </tr>\n",
       "    <tr>\n",
       "      <th>2</th>\n",
       "      <td>5.011217</td>\n",
       "      <td>2.534879</td>\n",
       "      <td>6.587828</td>\n",
       "      <td>2.595097</td>\n",
       "      <td>versicolor</td>\n",
       "    </tr>\n",
       "    <tr>\n",
       "      <th>3</th>\n",
       "      <td>4.528894</td>\n",
       "      <td>3.133289</td>\n",
       "      <td>4.851490</td>\n",
       "      <td>0.455277</td>\n",
       "      <td>virginica</td>\n",
       "    </tr>\n",
       "    <tr>\n",
       "      <th>4</th>\n",
       "      <td>5.379118</td>\n",
       "      <td>2.483151</td>\n",
       "      <td>1.206518</td>\n",
       "      <td>2.240143</td>\n",
       "      <td>setosa</td>\n",
       "    </tr>\n",
       "    <tr>\n",
       "      <th>5</th>\n",
       "      <td>5.004515</td>\n",
       "      <td>2.748193</td>\n",
       "      <td>2.049141</td>\n",
       "      <td>-0.148424</td>\n",
       "      <td>setosa</td>\n",
       "    </tr>\n",
       "    <tr>\n",
       "      <th>6</th>\n",
       "      <td>5.023698</td>\n",
       "      <td>3.629330</td>\n",
       "      <td>2.466910</td>\n",
       "      <td>0.675432</td>\n",
       "      <td>versicolor</td>\n",
       "    </tr>\n",
       "    <tr>\n",
       "      <th>7</th>\n",
       "      <td>3.772370</td>\n",
       "      <td>3.682535</td>\n",
       "      <td>6.198116</td>\n",
       "      <td>1.745771</td>\n",
       "      <td>versicolor</td>\n",
       "    </tr>\n",
       "    <tr>\n",
       "      <th>8</th>\n",
       "      <td>6.028028</td>\n",
       "      <td>3.109090</td>\n",
       "      <td>1.759783</td>\n",
       "      <td>0.706763</td>\n",
       "      <td>versicolor</td>\n",
       "    </tr>\n",
       "    <tr>\n",
       "      <th>9</th>\n",
       "      <td>4.569979</td>\n",
       "      <td>2.914439</td>\n",
       "      <td>6.812258</td>\n",
       "      <td>0.957414</td>\n",
       "      <td>virginica</td>\n",
       "    </tr>\n",
       "    <tr>\n",
       "      <th>10</th>\n",
       "      <td>6.720177</td>\n",
       "      <td>2.499252</td>\n",
       "      <td>6.626953</td>\n",
       "      <td>0.554338</td>\n",
       "      <td>versicolor</td>\n",
       "    </tr>\n",
       "    <tr>\n",
       "      <th>11</th>\n",
       "      <td>6.359234</td>\n",
       "      <td>3.726051</td>\n",
       "      <td>3.567486</td>\n",
       "      <td>0.402929</td>\n",
       "      <td>virginica</td>\n",
       "    </tr>\n",
       "    <tr>\n",
       "      <th>12</th>\n",
       "      <td>4.521639</td>\n",
       "      <td>3.344042</td>\n",
       "      <td>2.952879</td>\n",
       "      <td>0.309026</td>\n",
       "      <td>setosa</td>\n",
       "    </tr>\n",
       "    <tr>\n",
       "      <th>13</th>\n",
       "      <td>4.725038</td>\n",
       "      <td>2.692037</td>\n",
       "      <td>3.431786</td>\n",
       "      <td>0.201545</td>\n",
       "      <td>virginica</td>\n",
       "    </tr>\n",
       "    <tr>\n",
       "      <th>14</th>\n",
       "      <td>7.411704</td>\n",
       "      <td>3.025176</td>\n",
       "      <td>5.756766</td>\n",
       "      <td>0.766864</td>\n",
       "      <td>versicolor</td>\n",
       "    </tr>\n",
       "    <tr>\n",
       "      <th>15</th>\n",
       "      <td>7.443472</td>\n",
       "      <td>2.871620</td>\n",
       "      <td>0.819556</td>\n",
       "      <td>1.136270</td>\n",
       "      <td>setosa</td>\n",
       "    </tr>\n",
       "    <tr>\n",
       "      <th>16</th>\n",
       "      <td>6.595751</td>\n",
       "      <td>2.333455</td>\n",
       "      <td>3.379822</td>\n",
       "      <td>1.039943</td>\n",
       "      <td>virginica</td>\n",
       "    </tr>\n",
       "    <tr>\n",
       "      <th>17</th>\n",
       "      <td>6.396683</td>\n",
       "      <td>2.888109</td>\n",
       "      <td>5.476977</td>\n",
       "      <td>0.088567</td>\n",
       "      <td>versicolor</td>\n",
       "    </tr>\n",
       "    <tr>\n",
       "      <th>18</th>\n",
       "      <td>5.068341</td>\n",
       "      <td>3.410385</td>\n",
       "      <td>4.729902</td>\n",
       "      <td>0.933100</td>\n",
       "      <td>versicolor</td>\n",
       "    </tr>\n",
       "    <tr>\n",
       "      <th>19</th>\n",
       "      <td>5.803134</td>\n",
       "      <td>2.680316</td>\n",
       "      <td>5.841152</td>\n",
       "      <td>0.213036</td>\n",
       "      <td>versicolor</td>\n",
       "    </tr>\n",
       "  </tbody>\n",
       "</table>\n",
       "</div>"
      ],
      "text/plain": [
       "    sepal_length  sepal_width  petal_length  petal_width     species\n",
       "0       7.179941     2.404883      4.138424     1.703750      setosa\n",
       "1       5.907500     3.676692      4.931408     2.648358   virginica\n",
       "2       5.011217     2.534879      6.587828     2.595097  versicolor\n",
       "3       4.528894     3.133289      4.851490     0.455277   virginica\n",
       "4       5.379118     2.483151      1.206518     2.240143      setosa\n",
       "5       5.004515     2.748193      2.049141    -0.148424      setosa\n",
       "6       5.023698     3.629330      2.466910     0.675432  versicolor\n",
       "7       3.772370     3.682535      6.198116     1.745771  versicolor\n",
       "8       6.028028     3.109090      1.759783     0.706763  versicolor\n",
       "9       4.569979     2.914439      6.812258     0.957414   virginica\n",
       "10      6.720177     2.499252      6.626953     0.554338  versicolor\n",
       "11      6.359234     3.726051      3.567486     0.402929   virginica\n",
       "12      4.521639     3.344042      2.952879     0.309026      setosa\n",
       "13      4.725038     2.692037      3.431786     0.201545   virginica\n",
       "14      7.411704     3.025176      5.756766     0.766864  versicolor\n",
       "15      7.443472     2.871620      0.819556     1.136270      setosa\n",
       "16      6.595751     2.333455      3.379822     1.039943   virginica\n",
       "17      6.396683     2.888109      5.476977     0.088567  versicolor\n",
       "18      5.068341     3.410385      4.729902     0.933100  versicolor\n",
       "19      5.803134     2.680316      5.841152     0.213036  versicolor"
      ]
     },
     "execution_count": 35,
     "metadata": {},
     "output_type": "execute_result"
    }
   ],
   "source": [
    "synthetic_iris = ctgan.sample(1000)\n",
    "synthetic_iris.head(20)"
   ]
  },
  {
   "cell_type": "code",
   "execution_count": null,
   "id": "130de0a5-727d-4668-b732-545563d73126",
   "metadata": {},
   "outputs": [],
   "source": []
  }
 ],
 "metadata": {
  "kernelspec": {
   "display_name": "Python 3",
   "language": "python",
   "name": "python3"
  },
  "language_info": {
   "codemirror_mode": {
    "name": "ipython",
    "version": 3
   },
   "file_extension": ".py",
   "mimetype": "text/x-python",
   "name": "python",
   "nbconvert_exporter": "python",
   "pygments_lexer": "ipython3",
   "version": "3.8.16"
  }
 },
 "nbformat": 4,
 "nbformat_minor": 5
}
